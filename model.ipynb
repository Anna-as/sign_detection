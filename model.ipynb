{
 "cells": [
  {
   "cell_type": "code",
   "execution_count": 15,
   "id": "33cde982",
   "metadata": {},
   "outputs": [],
   "source": [
    "from tensorflow.keras.layers import Conv2D,Flatten,Dense,MaxPool2D,BatchNormalization, GlobalAveragePooling2D"
   ]
  },
  {
   "cell_type": "code",
   "execution_count": 16,
   "id": "79c985d8",
   "metadata": {},
   "outputs": [],
   "source": [
    "from tensorflow.keras.applications.resnet50 import preprocess_input, decode_predictions"
   ]
  },
  {
   "cell_type": "code",
   "execution_count": 17,
   "id": "37240389",
   "metadata": {},
   "outputs": [],
   "source": [
    "from tensorflow.keras.preprocessing.image import ImageDataGenerator,load_img"
   ]
  },
  {
   "cell_type": "code",
   "execution_count": 18,
   "id": "ae31ba06",
   "metadata": {},
   "outputs": [],
   "source": [
    "from tensorflow.keras.applications.resnet50 import ResNet50"
   ]
  },
  {
   "cell_type": "code",
   "execution_count": 19,
   "id": "f01df9ac",
   "metadata": {},
   "outputs": [],
   "source": [
    "from tensorflow.keras.preprocessing import image\n",
    "from tensorflow.keras.models import Sequential\n",
    "from tensorflow.keras.models import Model\n",
    "import matplotlib.pyplot as plt\n",
    "import numpy as np"
   ]
  },
  {
   "cell_type": "code",
   "execution_count": 20,
   "id": "962884c4",
   "metadata": {},
   "outputs": [],
   "source": [
    "img_height, img_width = (224,224)\n",
    "batch_size = 32"
   ]
  },
  {
   "cell_type": "code",
   "execution_count": 21,
   "id": "877b1fa7",
   "metadata": {},
   "outputs": [],
   "source": [
    "train_data_dir = r\"dataset/processed_dataset/train\"\n",
    "valid_data_dir = r\"dataset/processed_dataset/val\"\n",
    "test_data_dir = r\"dataset/processed_dataset/test\""
   ]
  },
  {
   "cell_type": "code",
   "execution_count": 22,
   "id": "53dd148b",
   "metadata": {},
   "outputs": [
    {
     "name": "stdout",
     "output_type": "stream",
     "text": [
      "Found 934 images belonging to 36 classes.\n",
      "Found 180 images belonging to 36 classes.\n"
     ]
    }
   ],
   "source": [
    "train_datagen =ImageDataGenerator(preprocessing_function=preprocess_input,shear_range=0.2,zoom_range=0.2,horizontal_flip=True,validation_split=0.4)\n",
    "\n",
    "train_generator = train_datagen.flow_from_directory(\n",
    "    train_data_dir,\n",
    "    target_size=(img_height,img_width),\n",
    "    batch_size=batch_size,\n",
    "    class_mode='categorical',\n",
    "    subset='training')\n",
    "\n",
    "valid_generator = train_datagen.flow_from_directory(\n",
    "    valid_data_dir,\n",
    "    target_size=(img_height,img_width),\n",
    "    batch_size=batch_size,\n",
    "    class_mode='categorical',\n",
    "    subset='validation')\n",
    "    "
   ]
  },
  {
   "cell_type": "code",
   "execution_count": 23,
   "id": "2c87ea14",
   "metadata": {},
   "outputs": [
    {
     "name": "stdout",
     "output_type": "stream",
     "text": [
      "Found 180 images belonging to 36 classes.\n"
     ]
    }
   ],
   "source": [
    "test_generator = train_datagen.flow_from_directory(\n",
    "    test_data_dir,\n",
    "    target_size=(img_height , img_width),\n",
    "    batch_size=1,\n",
    "    class_mode='categorical',\n",
    "    subset='validation')"
   ]
  },
  {
   "cell_type": "code",
   "execution_count": 24,
   "id": "2d357bfb",
   "metadata": {},
   "outputs": [
    {
     "data": {
      "text/plain": [
       "(1, 224, 224, 3)"
      ]
     },
     "execution_count": 24,
     "metadata": {},
     "output_type": "execute_result"
    }
   ],
   "source": [
    "x,y = test_generator.next()\n",
    "x.shape"
   ]
  },
  {
   "cell_type": "code",
   "execution_count": 25,
   "id": "0cf5ef1d",
   "metadata": {},
   "outputs": [
    {
     "name": "stdout",
     "output_type": "stream",
     "text": [
      "Epoch 1/100\n",
      "30/30 [==============================] - 59s 2s/step - loss: 2.8238 - accuracy: 0.3073\n",
      "Epoch 2/100\n",
      "30/30 [==============================] - 60s 2s/step - loss: 1.2323 - accuracy: 0.6103\n",
      "Epoch 3/100\n",
      "30/30 [==============================] - 60s 2s/step - loss: 0.9220 - accuracy: 0.7227\n",
      "Epoch 4/100\n",
      "30/30 [==============================] - 60s 2s/step - loss: 0.8144 - accuracy: 0.7441\n",
      "Epoch 5/100\n",
      "30/30 [==============================] - 61s 2s/step - loss: 0.5267 - accuracy: 0.8501\n",
      "Epoch 6/100\n",
      "30/30 [==============================] - 61s 2s/step - loss: 0.4802 - accuracy: 0.8544\n",
      "Epoch 7/100\n",
      "30/30 [==============================] - 60s 2s/step - loss: 0.3732 - accuracy: 0.8865\n",
      "Epoch 8/100\n",
      "30/30 [==============================] - 61s 2s/step - loss: 0.3253 - accuracy: 0.9101\n",
      "Epoch 9/100\n",
      "30/30 [==============================] - 61s 2s/step - loss: 0.2387 - accuracy: 0.9390\n",
      "Epoch 10/100\n",
      "30/30 [==============================] - 63s 2s/step - loss: 0.3714 - accuracy: 0.8876\n",
      "Epoch 11/100\n",
      "30/30 [==============================] - 62s 2s/step - loss: 0.2735 - accuracy: 0.9197\n",
      "Epoch 12/100\n",
      "30/30 [==============================] - 60s 2s/step - loss: 0.2554 - accuracy: 0.9218\n",
      "Epoch 13/100\n",
      "30/30 [==============================] - 61s 2s/step - loss: 0.1798 - accuracy: 0.9540\n",
      "Epoch 14/100\n",
      "30/30 [==============================] - 62s 2s/step - loss: 0.2175 - accuracy: 0.9336\n",
      "Epoch 15/100\n",
      "30/30 [==============================] - 60s 2s/step - loss: 0.1956 - accuracy: 0.9422\n",
      "Epoch 16/100\n",
      "30/30 [==============================] - 60s 2s/step - loss: 0.1583 - accuracy: 0.9497\n",
      "Epoch 17/100\n",
      "30/30 [==============================] - 60s 2s/step - loss: 0.1570 - accuracy: 0.9540\n",
      "Epoch 18/100\n",
      "30/30 [==============================] - 61s 2s/step - loss: 0.1159 - accuracy: 0.9690\n",
      "Epoch 19/100\n",
      "30/30 [==============================] - 61s 2s/step - loss: 0.1274 - accuracy: 0.9657\n",
      "Epoch 20/100\n",
      "30/30 [==============================] - 60s 2s/step - loss: 0.2012 - accuracy: 0.9379\n",
      "Epoch 21/100\n",
      "30/30 [==============================] - 60s 2s/step - loss: 0.1636 - accuracy: 0.9486\n",
      "Epoch 22/100\n",
      "30/30 [==============================] - 60s 2s/step - loss: 0.1256 - accuracy: 0.9572\n",
      "Epoch 23/100\n",
      "30/30 [==============================] - 60s 2s/step - loss: 0.1388 - accuracy: 0.9572\n",
      "Epoch 24/100\n",
      "30/30 [==============================] - 60s 2s/step - loss: 0.1506 - accuracy: 0.9529\n",
      "Epoch 25/100\n",
      "30/30 [==============================] - 60s 2s/step - loss: 0.1355 - accuracy: 0.9582\n",
      "Epoch 26/100\n",
      "30/30 [==============================] - 61s 2s/step - loss: 0.1009 - accuracy: 0.9647\n",
      "Epoch 27/100\n",
      "30/30 [==============================] - 60s 2s/step - loss: 0.1147 - accuracy: 0.9604\n",
      "Epoch 28/100\n",
      "30/30 [==============================] - 60s 2s/step - loss: 0.1734 - accuracy: 0.9411\n",
      "Epoch 29/100\n",
      "30/30 [==============================] - 60s 2s/step - loss: 0.1065 - accuracy: 0.9636\n",
      "Epoch 30/100\n",
      "30/30 [==============================] - 60s 2s/step - loss: 0.0618 - accuracy: 0.9829\n",
      "Epoch 31/100\n",
      "30/30 [==============================] - 60s 2s/step - loss: 0.0936 - accuracy: 0.9657\n",
      "Epoch 32/100\n",
      "30/30 [==============================] - 60s 2s/step - loss: 0.0694 - accuracy: 0.9775\n",
      "Epoch 33/100\n",
      "30/30 [==============================] - 60s 2s/step - loss: 0.0712 - accuracy: 0.9743\n",
      "Epoch 34/100\n",
      "30/30 [==============================] - 60s 2s/step - loss: 0.0542 - accuracy: 0.9807\n",
      "Epoch 35/100\n",
      "30/30 [==============================] - 61s 2s/step - loss: 0.0650 - accuracy: 0.9807\n",
      "Epoch 36/100\n",
      "30/30 [==============================] - 61s 2s/step - loss: 0.0499 - accuracy: 0.9882\n",
      "Epoch 37/100\n",
      "30/30 [==============================] - 60s 2s/step - loss: 0.0392 - accuracy: 0.9872\n",
      "Epoch 38/100\n",
      "30/30 [==============================] - 60s 2s/step - loss: 0.0679 - accuracy: 0.9829\n",
      "Epoch 39/100\n",
      "30/30 [==============================] - 60s 2s/step - loss: 0.1105 - accuracy: 0.9732\n",
      "Epoch 40/100\n",
      "30/30 [==============================] - 60s 2s/step - loss: 0.0639 - accuracy: 0.9797\n",
      "Epoch 41/100\n",
      "30/30 [==============================] - 61s 2s/step - loss: 0.0897 - accuracy: 0.9754\n",
      "Epoch 42/100\n",
      "30/30 [==============================] - 60s 2s/step - loss: 0.0829 - accuracy: 0.9743\n",
      "Epoch 43/100\n",
      "30/30 [==============================] - 60s 2s/step - loss: 0.0972 - accuracy: 0.9732\n",
      "Epoch 44/100\n",
      "30/30 [==============================] - 60s 2s/step - loss: 0.0574 - accuracy: 0.9839\n",
      "Epoch 45/100\n",
      "30/30 [==============================] - 60s 2s/step - loss: 0.0468 - accuracy: 0.9861\n",
      "Epoch 46/100\n",
      "30/30 [==============================] - 60s 2s/step - loss: 0.0350 - accuracy: 0.9914\n",
      "Epoch 47/100\n",
      "30/30 [==============================] - 60s 2s/step - loss: 0.0442 - accuracy: 0.9904\n",
      "Epoch 48/100\n",
      "30/30 [==============================] - 60s 2s/step - loss: 0.0507 - accuracy: 0.9861\n",
      "Epoch 49/100\n",
      "30/30 [==============================] - 60s 2s/step - loss: 0.1013 - accuracy: 0.9700\n",
      "Epoch 50/100\n",
      "30/30 [==============================] - 60s 2s/step - loss: 0.0799 - accuracy: 0.9754\n",
      "Epoch 51/100\n",
      "30/30 [==============================] - 61s 2s/step - loss: 0.0306 - accuracy: 0.9914\n",
      "Epoch 52/100\n",
      "30/30 [==============================] - 60s 2s/step - loss: 0.0538 - accuracy: 0.9829\n",
      "Epoch 53/100\n",
      "30/30 [==============================] - 60s 2s/step - loss: 0.0289 - accuracy: 0.9936\n",
      "Epoch 54/100\n",
      "30/30 [==============================] - 60s 2s/step - loss: 0.0760 - accuracy: 0.9732\n",
      "Epoch 55/100\n",
      "30/30 [==============================] - 61s 2s/step - loss: 0.1539 - accuracy: 0.9615\n",
      "Epoch 56/100\n",
      "30/30 [==============================] - 61s 2s/step - loss: 0.1727 - accuracy: 0.9507\n",
      "Epoch 57/100\n",
      "30/30 [==============================] - 61s 2s/step - loss: 0.1087 - accuracy: 0.9636\n",
      "Epoch 58/100\n",
      "30/30 [==============================] - 60s 2s/step - loss: 0.0566 - accuracy: 0.9850\n",
      "Epoch 59/100\n",
      "30/30 [==============================] - 61s 2s/step - loss: 0.0403 - accuracy: 0.9882\n",
      "Epoch 60/100\n",
      "30/30 [==============================] - 60s 2s/step - loss: 0.0370 - accuracy: 0.9882\n",
      "Epoch 61/100\n",
      "30/30 [==============================] - 60s 2s/step - loss: 0.0571 - accuracy: 0.9797\n",
      "Epoch 62/100\n",
      "30/30 [==============================] - 60s 2s/step - loss: 0.0637 - accuracy: 0.9775\n",
      "Epoch 63/100\n",
      "30/30 [==============================] - 60s 2s/step - loss: 0.0399 - accuracy: 0.9872\n",
      "Epoch 64/100\n",
      "30/30 [==============================] - 60s 2s/step - loss: 0.0269 - accuracy: 0.9946\n",
      "Epoch 65/100\n",
      "30/30 [==============================] - 60s 2s/step - loss: 0.0252 - accuracy: 0.9925\n",
      "Epoch 66/100\n",
      "30/30 [==============================] - 60s 2s/step - loss: 0.0771 - accuracy: 0.9732\n",
      "Epoch 67/100\n",
      "30/30 [==============================] - 60s 2s/step - loss: 0.1261 - accuracy: 0.9540\n",
      "Epoch 68/100\n",
      "30/30 [==============================] - 60s 2s/step - loss: 0.0912 - accuracy: 0.9690\n",
      "Epoch 69/100\n",
      "30/30 [==============================] - 60s 2s/step - loss: 0.0570 - accuracy: 0.9829\n",
      "Epoch 70/100\n",
      "30/30 [==============================] - 60s 2s/step - loss: 0.0494 - accuracy: 0.9839\n",
      "Epoch 71/100\n",
      "30/30 [==============================] - 60s 2s/step - loss: 0.0303 - accuracy: 0.9893\n",
      "Epoch 72/100\n",
      "30/30 [==============================] - 60s 2s/step - loss: 0.0339 - accuracy: 0.9872\n",
      "Epoch 73/100\n",
      "30/30 [==============================] - 60s 2s/step - loss: 0.0892 - accuracy: 0.9679\n",
      "Epoch 74/100\n",
      "30/30 [==============================] - 60s 2s/step - loss: 0.1094 - accuracy: 0.9636\n",
      "Epoch 75/100\n",
      "30/30 [==============================] - 60s 2s/step - loss: 0.0961 - accuracy: 0.9668\n",
      "Epoch 76/100\n",
      "30/30 [==============================] - 60s 2s/step - loss: 0.0866 - accuracy: 0.9743\n",
      "Epoch 77/100\n",
      "30/30 [==============================] - 62s 2s/step - loss: 0.1220 - accuracy: 0.9582\n",
      "Epoch 78/100\n",
      "30/30 [==============================] - 61s 2s/step - loss: 0.0571 - accuracy: 0.9775\n",
      "Epoch 79/100\n",
      "30/30 [==============================] - 61s 2s/step - loss: 0.0452 - accuracy: 0.9861\n",
      "Epoch 80/100\n",
      "30/30 [==============================] - 61s 2s/step - loss: 0.0282 - accuracy: 0.9904\n",
      "Epoch 81/100\n",
      "30/30 [==============================] - 61s 2s/step - loss: 0.0242 - accuracy: 0.9946\n",
      "Epoch 82/100\n",
      "30/30 [==============================] - 61s 2s/step - loss: 0.0200 - accuracy: 0.9914\n",
      "Epoch 83/100\n"
     ]
    },
    {
     "name": "stdout",
     "output_type": "stream",
     "text": [
      "30/30 [==============================] - 61s 2s/step - loss: 0.0272 - accuracy: 0.9936\n",
      "Epoch 84/100\n",
      "30/30 [==============================] - 61s 2s/step - loss: 0.0396 - accuracy: 0.9872\n",
      "Epoch 85/100\n",
      "30/30 [==============================] - 61s 2s/step - loss: 0.0399 - accuracy: 0.9839\n",
      "Epoch 86/100\n",
      "30/30 [==============================] - 61s 2s/step - loss: 0.0246 - accuracy: 0.9925\n",
      "Epoch 87/100\n",
      "30/30 [==============================] - 60s 2s/step - loss: 0.0269 - accuracy: 0.9946\n",
      "Epoch 88/100\n",
      "30/30 [==============================] - 61s 2s/step - loss: 0.0229 - accuracy: 0.9925\n",
      "Epoch 89/100\n",
      "30/30 [==============================] - 61s 2s/step - loss: 0.0302 - accuracy: 0.9893\n",
      "Epoch 90/100\n",
      "30/30 [==============================] - 62s 2s/step - loss: 0.0148 - accuracy: 0.9968\n",
      "Epoch 91/100\n",
      "30/30 [==============================] - 61s 2s/step - loss: 0.0190 - accuracy: 0.9936\n",
      "Epoch 92/100\n",
      "30/30 [==============================] - 60s 2s/step - loss: 0.0323 - accuracy: 0.9872\n",
      "Epoch 93/100\n",
      "30/30 [==============================] - 60s 2s/step - loss: 0.0708 - accuracy: 0.9786\n",
      "Epoch 94/100\n",
      "30/30 [==============================] - 60s 2s/step - loss: 0.0466 - accuracy: 0.9818\n",
      "Epoch 95/100\n",
      "30/30 [==============================] - 60s 2s/step - loss: 0.0599 - accuracy: 0.9850\n",
      "Epoch 96/100\n",
      "30/30 [==============================] - 60s 2s/step - loss: 0.0691 - accuracy: 0.9786\n",
      "Epoch 97/100\n",
      "30/30 [==============================] - 60s 2s/step - loss: 0.0481 - accuracy: 0.9850\n",
      "Epoch 98/100\n",
      "30/30 [==============================] - 61s 2s/step - loss: 0.0111 - accuracy: 0.9968\n",
      "Epoch 99/100\n",
      "30/30 [==============================] - 60s 2s/step - loss: 0.0109 - accuracy: 0.9957\n",
      "Epoch 100/100\n",
      "30/30 [==============================] - 60s 2s/step - loss: 0.0334 - accuracy: 0.9861\n"
     ]
    },
    {
     "data": {
      "text/plain": [
       "<tensorflow.python.keras.callbacks.History at 0x21116738f70>"
      ]
     },
     "execution_count": 25,
     "metadata": {},
     "output_type": "execute_result"
    }
   ],
   "source": [
    "base_model = ResNet50(include_top=False, weights='imagenet')\n",
    "x=base_model.output\n",
    "x=GlobalAveragePooling2D()(x)\n",
    "x=Dense(1024, activation='relu')(x)\n",
    "predictions=Dense(train_generator.num_classes,activation='softmax')(x)\n",
    "model=Model(inputs=base_model.input, outputs=predictions)\n",
    "for layer in base_model.layers:\n",
    "    layer.trainable = False\n",
    "model.compile(optimizer='adam', loss='categorical_crossentropy' , metrics=['accuracy'])\n",
    "model.fit(train_generator,epochs=100)"
   ]
  },
  {
   "cell_type": "code",
   "execution_count": 26,
   "id": "78747ba5",
   "metadata": {},
   "outputs": [],
   "source": [
    "model.save('dataset/saved_model/ResNet50_hand.h5')"
   ]
  },
  {
   "cell_type": "code",
   "execution_count": 30,
   "id": "a64f5d94",
   "metadata": {},
   "outputs": [
    {
     "name": "stdout",
     "output_type": "stream",
     "text": [
      "180/180 - 18s - loss: 0.5618 - accuracy: 0.8278\n",
      "\n",
      "Test accuracy: 0.8277778029441833\n"
     ]
    }
   ],
   "source": [
    "test_loss, test_acc= model.evaluate(test_generator,verbose=2)\n",
    "print('\\nTest accuracy:',test_acc)"
   ]
  },
  {
   "cell_type": "code",
   "execution_count": 32,
   "id": "4d337c43",
   "metadata": {},
   "outputs": [
    {
     "data": {
      "image/png": "[encoded data removed]",
      "text/plain": [
       "<Figure size 432x288 with 2 Axes>"
      ]
     },
     "metadata": {
      "needs_background": "light"
     },
     "output_type": "display_data"
    },
    {
     "name": "stdout",
     "output_type": "stream",
     "text": [
      "test accuracy : 80.55555555555556\n"
     ]
    }
   ],
   "source": [
    "import pandas as pd\n",
    "import seaborn as sn\n",
    "import tensorflow as tf\n",
    "\n",
    "model=tf.keras.models.load_model(\"dataset/saved_model/ResNet50_hand.h5\")\n",
    "filenames=test_generator.filenames\n",
    "nb_samples=len(test_generator)\n",
    "y_prob=[]\n",
    "y_act=[]\n",
    "test_generator.reset()\n",
    "for _ in range(nb_samples):\n",
    "    X_test,Y_test = test_generator.next()\n",
    "    y_prob.append(model.predict(X_test))\n",
    "    y_act.append(Y_test)\n",
    "    \n",
    "predicted_class=[list(train_generator.class_indices.keys())[i.argmax()]for i in y_prob]\n",
    "actual_class=[list(train_generator.class_indices.keys())[i.argmax()] for i in y_act]\n",
    "\n",
    "out_df = pd.DataFrame(np.vstack([predicted_class,actual_class]).T,columns=['predicted_class','actual_class'])\n",
    "confusion_matrix = pd.crosstab(out_df['actual_class'],out_df['predicted_class'], rownames=['Actual'], colnames=['predicted'])                                                                        \n",
    "                                                                           \n",
    "sn.heatmap(confusion_matrix,cmap='Blues',annot=True,fmt='d')\n",
    "plt.show()\n",
    "print('test accuracy : {}'.format((np.diagonal(confusion_matrix).sum()/confusion_matrix.sum().sum()*100)))"
   ]
  },
  {
   "cell_type": "code",
   "execution_count": 44,
   "id": "4fd441e0",
   "metadata": {},
   "outputs": [],
   "source": []
  },
  {
   "cell_type": "code",
   "execution_count": null,
   "id": "9b4c9a98",
   "metadata": {},
   "outputs": [],
   "source": []
  },
  {
   "cell_type": "code",
   "execution_count": null,
   "id": "1274ac55",
   "metadata": {},
   "outputs": [],
   "source": []
  },
  {
   "cell_type": "code",
   "execution_count": null,
   "id": "01efe0f1",
   "metadata": {},
   "outputs": [],
   "source": []
  }
 ],
 "metadata": {
  "kernelspec": {
   "display_name": "Python 3",
   "language": "python",
   "name": "python3"
  }
 },
 "nbformat": 4,
 "nbformat_minor": 5
}
